{
 "cells": [
  {
   "cell_type": "code",
   "execution_count": 37,
   "metadata": {},
   "outputs": [],
   "source": [
    "import pandas as pd\n",
    "from mlxtend.frequent_patterns import apriori, association_rules\n",
    "from mlxtend.preprocessing import TransactionEncoder"
   ]
  },
  {
   "cell_type": "code",
   "execution_count": 38,
   "metadata": {},
   "outputs": [],
   "source": [
    "dataset = pd.read_csv('BakerySales.csv')"
   ]
  },
  {
   "cell_type": "code",
   "execution_count": 39,
   "metadata": {},
   "outputs": [
    {
     "name": "stdout",
     "output_type": "stream",
     "text": [
      "   TransactionNo          Items             DateTime  Daypart  DayType\n",
      "0              1          Bread  2016-10-30 09:58:11  Morning  Weekend\n",
      "1              2   Scandinavian  2016-10-30 10:05:34  Morning  Weekend\n",
      "2              2   Scandinavian  2016-10-30 10:05:34  Morning  Weekend\n",
      "3              3  Hot chocolate  2016-10-30 10:07:57  Morning  Weekend\n",
      "4              3            Jam  2016-10-30 10:07:57  Morning  Weekend\n"
     ]
    }
   ],
   "source": [
    "\n",
    "print(dataset.head())"
   ]
  },
  {
   "cell_type": "code",
   "execution_count": 40,
   "metadata": {},
   "outputs": [],
   "source": [
    "transaksi = dataset.groupby('TransactionNo')['Items'].apply(list)"
   ]
  },
  {
   "cell_type": "code",
   "execution_count": 41,
   "metadata": {},
   "outputs": [],
   "source": [
    "te = TransactionEncoder()\n",
    "te_data = te.fit(transaksi).transform(transaksi)\n",
    "df_onehot = pd.DataFrame(te_data, columns=te.columns_)"
   ]
  },
  {
   "cell_type": "code",
   "execution_count": 42,
   "metadata": {},
   "outputs": [],
   "source": [
    "frequent_itemsets = apriori(df_onehot, min_support=0.01, use_colnames=True)"
   ]
  },
  {
   "cell_type": "code",
   "execution_count": 43,
   "metadata": {},
   "outputs": [],
   "source": [
    "rules = association_rules(frequent_itemsets, metric=\"confidence\", min_threshold=0.5)"
   ]
  },
  {
   "cell_type": "code",
   "execution_count": 44,
   "metadata": {},
   "outputs": [],
   "source": [
    "top_rules = rules.sort_values('lift', ascending=False).head(10)\n"
   ]
  },
  {
   "cell_type": "code",
   "execution_count": 45,
   "metadata": {},
   "outputs": [
    {
     "name": "stdout",
     "output_type": "stream",
     "text": [
      "\n",
      "Item Paling Sering Dibeli Bersamaan:\n",
      "    support     itemsets\n",
      "0  0.036344  (Alfajores)\n",
      "1  0.016059   (Baguette)\n",
      "2  0.327205      (Bread)\n",
      "3  0.040042    (Brownie)\n",
      "4  0.103856       (Cake)\n"
     ]
    }
   ],
   "source": [
    "print(\"\\nItem Paling Sering Dibeli Bersamaan:\")\n",
    "print(frequent_itemsets.head())"
   ]
  },
  {
   "cell_type": "code",
   "execution_count": 46,
   "metadata": {},
   "outputs": [
    {
     "name": "stdout",
     "output_type": "stream",
     "text": [
      "\n",
      "Top 10 Association Rules:\n",
      "         antecedents consequents  antecedent support  consequent support  \\\n",
      "10           (Toast)    (Coffee)            0.033597            0.478394   \n",
      "9   (Spanish Brunch)    (Coffee)            0.018172            0.478394   \n",
      "5        (Medialuna)    (Coffee)            0.061807            0.478394   \n",
      "6           (Pastry)    (Coffee)            0.086107            0.478394   \n",
      "0        (Alfajores)    (Coffee)            0.036344            0.478394   \n",
      "4            (Juice)    (Coffee)            0.038563            0.478394   \n",
      "7         (Sandwich)    (Coffee)            0.071844            0.478394   \n",
      "1             (Cake)    (Coffee)            0.103856            0.478394   \n",
      "8            (Scone)    (Coffee)            0.034548            0.478394   \n",
      "2          (Cookies)    (Coffee)            0.054411            0.478394   \n",
      "\n",
      "     support  confidence      lift  leverage  conviction  zhangs_metric  \n",
      "10  0.023666    0.704403  1.472431  0.007593    1.764582       0.332006  \n",
      "9   0.010882    0.598837  1.251766  0.002189    1.300235       0.204851  \n",
      "5   0.035182    0.569231  1.189878  0.005614    1.210871       0.170091  \n",
      "6   0.047544    0.552147  1.154168  0.006351    1.164682       0.146161  \n",
      "0   0.019651    0.540698  1.130235  0.002264    1.135648       0.119574  \n",
      "4   0.020602    0.534247  1.116750  0.002154    1.119919       0.108738  \n",
      "7   0.038246    0.532353  1.112792  0.003877    1.115384       0.109205  \n",
      "1   0.054728    0.526958  1.101515  0.005044    1.102664       0.102840  \n",
      "8   0.018067    0.522936  1.093107  0.001539    1.093366       0.088224  \n",
      "2   0.028209    0.518447  1.083723  0.002179    1.083174       0.081700  \n"
     ]
    }
   ],
   "source": [
    "print(\"\\nTop 10 Association Rules:\")\n",
    "top_rules = rules.sort_values('lift', ascending=False).head(10)\n",
    "print(top_rules)"
   ]
  },
  {
   "cell_type": "code",
   "execution_count": 47,
   "metadata": {},
   "outputs": [
    {
     "name": "stdout",
     "output_type": "stream",
     "text": [
      "\n",
      "Evaluation of Top Rules:\n",
      "Rule 11: ['Toast'] => ['Coffee']\n",
      "Support: 0.023666138404648707, Confidence: 0.7044025157232704, Lift: 1.4724314954330286\n",
      "--------------------------------------------------------\n",
      "Rule 10: ['Spanish Brunch'] => ['Coffee']\n",
      "Support: 0.010882197569994718, Confidence: 0.5988372093023255, Lift: 1.2517655004519679\n",
      "--------------------------------------------------------\n",
      "Rule 6: ['Medialuna'] => ['Coffee']\n",
      "Support: 0.03518225039619651, Confidence: 0.5692307692307692, Lift: 1.1898783636857841\n",
      "--------------------------------------------------------\n",
      "Rule 7: ['Pastry'] => ['Coffee']\n",
      "Support: 0.04754358161648178, Confidence: 0.5521472392638037, Lift: 1.154168202215526\n",
      "--------------------------------------------------------\n",
      "Rule 1: ['Alfajores'] => ['Coffee']\n",
      "Support: 0.0196513470681458, Confidence: 0.5406976744186046, Lift: 1.1302348693401265\n",
      "--------------------------------------------------------\n",
      "Rule 5: ['Juice'] => ['Coffee']\n",
      "Support: 0.020602218700475437, Confidence: 0.5342465753424658, Lift: 1.11674996369621\n",
      "--------------------------------------------------------\n",
      "Rule 8: ['Sandwich'] => ['Coffee']\n",
      "Support: 0.038246170100369785, Confidence: 0.5323529411764706, Lift: 1.1127916493452503\n",
      "--------------------------------------------------------\n",
      "Rule 2: ['Cake'] => ['Coffee']\n",
      "Support: 0.054727945060750134, Confidence: 0.5269582909460835, Lift: 1.1015150670946732\n",
      "--------------------------------------------------------\n",
      "Rule 9: ['Scone'] => ['Coffee']\n",
      "Support: 0.018066561014263075, Confidence: 0.5229357798165138, Lift: 1.0931067040554998\n",
      "--------------------------------------------------------\n",
      "Rule 3: ['Cookies'] => ['Coffee']\n",
      "Support: 0.02820919175911252, Confidence: 0.5184466019417476, Lift: 1.083722854986449\n",
      "--------------------------------------------------------\n"
     ]
    }
   ],
   "source": [
    "print(\"\\nEvaluation of Top Rules:\")\n",
    "for index, rule in top_rules.iterrows():\n",
    "    antecedents = list(rule['antecedents'])\n",
    "    consequents = list(rule['consequents'])\n",
    "    print(f\"Rule {index+1}: {antecedents} => {consequents}\")\n",
    "    print(f\"Support: {rule['support']}, Confidence: {rule['confidence']}, Lift: {rule['lift']}\")\n",
    "    print(\"--------------------------------------------------------\")"
   ]
  },
  {
   "cell_type": "code",
   "execution_count": 48,
   "metadata": {},
   "outputs": [
    {
     "name": "stdout",
     "output_type": "stream",
     "text": [
      "\n",
      "Items Terlaris:\n",
      "Item: ['Coffee'], Support: 0.47839408346539886\n",
      "Item: ['Bread'], Support: 0.32720549392498677\n",
      "Item: ['Tea'], Support: 0.14263074484944532\n",
      "Item: ['Cake'], Support: 0.10385631273111463\n",
      "Item: ['Coffee', 'Bread'], Support: 0.09001584786053883\n"
     ]
    }
   ],
   "source": [
    "print(\"\\nItems Terlaris:\")\n",
    "top_items = frequent_itemsets.sort_values(by='support', ascending=False).head(5)\n",
    "for index, item in top_items.iterrows():\n",
    "    print(f\"Item: {list(item['itemsets'])}, Support: {item['support']}\")"
   ]
  },
  {
   "cell_type": "code",
   "execution_count": 49,
   "metadata": {},
   "outputs": [
    {
     "name": "stdout",
     "output_type": "stream",
     "text": [
      "\n",
      "Rekomendasi Produk yang Mungkin Perlu Ditambah Stok:\n",
      "Item: ['Coffee'], Rekomendasi Stok Berdasarkan Lift: 1.4724314954330286\n",
      "Item: ['Coffee'], Rekomendasi Stok Berdasarkan Lift: 1.2517655004519679\n",
      "Item: ['Coffee'], Rekomendasi Stok Berdasarkan Lift: 1.1898783636857841\n",
      "Item: ['Coffee'], Rekomendasi Stok Berdasarkan Lift: 1.154168202215526\n",
      "Item: ['Coffee'], Rekomendasi Stok Berdasarkan Lift: 1.1302348693401265\n",
      "Item: ['Coffee'], Rekomendasi Stok Berdasarkan Lift: 1.11674996369621\n",
      "Item: ['Coffee'], Rekomendasi Stok Berdasarkan Lift: 1.1127916493452503\n",
      "Item: ['Coffee'], Rekomendasi Stok Berdasarkan Lift: 1.1015150670946732\n",
      "Item: ['Coffee'], Rekomendasi Stok Berdasarkan Lift: 1.0931067040554998\n",
      "Item: ['Coffee'], Rekomendasi Stok Berdasarkan Lift: 1.083722854986449\n"
     ]
    }
   ],
   "source": [
    "print(\"\\nRekomendasi Produk yang Mungkin Perlu Ditambah Stok:\")\n",
    "for index, rule in top_rules.iterrows():\n",
    "    consequents = list(rule['consequents'])\n",
    "    if len(consequents) == 1: \n",
    "        print(f\"Item: {consequents}, Rekomendasi Stok Berdasarkan Lift: {rule['lift']}\")"
   ]
  }
 ],
 "metadata": {
  "kernelspec": {
   "display_name": "base",
   "language": "python",
   "name": "python3"
  },
  "language_info": {
   "codemirror_mode": {
    "name": "ipython",
    "version": 3
   },
   "file_extension": ".py",
   "mimetype": "text/x-python",
   "name": "python",
   "nbconvert_exporter": "python",
   "pygments_lexer": "ipython3",
   "version": "3.12.4"
  }
 },
 "nbformat": 4,
 "nbformat_minor": 2
}
